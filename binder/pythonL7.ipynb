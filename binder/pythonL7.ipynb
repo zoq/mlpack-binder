{
 "cells": [
  {
   "cell_type": "markdown",
   "metadata": {},
   "source": [
    "There are several ways to declare and populate a python pandas DataFrame with lists, dictionaries and combinations of lists and dictionaries (e.g., list of dictionaries, dictionary of lists)\n",
    "\n",
    "## Declaring a DataFrame from a dictionary of lists\n",
    "\n",
    "Let's create a DataFrame from a single sample's order-level proteobacteria amplicon reads"
   ]
  },
  {
   "cell_type": "code",
   "execution_count": 111,
   "metadata": {},
   "outputs": [],
   "source": [
    "import pandas as pd\n",
    "\n",
    "OTUnames=['Bacteria;Proteobacteria;Deltaproteobacteria;Desulfobacterales', 'Bacteria;Proteobacteria;Gammaproteobacteria;Vibrionales', 'Bacteria;Proteobacteria;Deltaproteobacteria;Syntrophobacterales','Bacteria;Proteobacteria;Gammaproteobacteria;Aeromonadales','Bacteria;Proteobacteria;Gammaproteobacteria;Methylococcales']\n",
    "\n",
    "noReads=[3000,6000,500,300,0]\n",
    "\n",
    "envType=['suboxic']*5"
   ]
  },
  {
   "cell_type": "code",
   "execution_count": 112,
   "metadata": {},
   "outputs": [],
   "source": [
    "dfFromDictofLists=pd.DataFrame({'OTU Name':OTUnames,'noReads':noReads,'Environment':envType})"
   ]
  },
  {
   "cell_type": "markdown",
   "metadata": {},
   "source": [
    "Look at the DataFrame by typing into the cell below"
   ]
  },
  {
   "cell_type": "code",
   "execution_count": 113,
   "metadata": {},
   "outputs": [
    {
     "data": {
      "text/html": [
       "<div>\n",
       "<style scoped>\n",
       "    .dataframe tbody tr th:only-of-type {\n",
       "        vertical-align: middle;\n",
       "    }\n",
       "\n",
       "    .dataframe tbody tr th {\n",
       "        vertical-align: top;\n",
       "    }\n",
       "\n",
       "    .dataframe thead th {\n",
       "        text-align: right;\n",
       "    }\n",
       "</style>\n",
       "<table border=\"1\" class=\"dataframe\">\n",
       "  <thead>\n",
       "    <tr style=\"text-align: right;\">\n",
       "      <th></th>\n",
       "      <th>OTU Name</th>\n",
       "      <th>noReads</th>\n",
       "      <th>Environment</th>\n",
       "    </tr>\n",
       "  </thead>\n",
       "  <tbody>\n",
       "    <tr>\n",
       "      <th>0</th>\n",
       "      <td>Bacteria;Proteobacteria;Deltaproteobacteria;De...</td>\n",
       "      <td>3000</td>\n",
       "      <td>suboxic</td>\n",
       "    </tr>\n",
       "    <tr>\n",
       "      <th>1</th>\n",
       "      <td>Bacteria;Proteobacteria;Gammaproteobacteria;Vi...</td>\n",
       "      <td>6000</td>\n",
       "      <td>suboxic</td>\n",
       "    </tr>\n",
       "    <tr>\n",
       "      <th>2</th>\n",
       "      <td>Bacteria;Proteobacteria;Deltaproteobacteria;Sy...</td>\n",
       "      <td>500</td>\n",
       "      <td>suboxic</td>\n",
       "    </tr>\n",
       "    <tr>\n",
       "      <th>3</th>\n",
       "      <td>Bacteria;Proteobacteria;Gammaproteobacteria;Ae...</td>\n",
       "      <td>300</td>\n",
       "      <td>suboxic</td>\n",
       "    </tr>\n",
       "    <tr>\n",
       "      <th>4</th>\n",
       "      <td>Bacteria;Proteobacteria;Gammaproteobacteria;Me...</td>\n",
       "      <td>0</td>\n",
       "      <td>suboxic</td>\n",
       "    </tr>\n",
       "  </tbody>\n",
       "</table>\n",
       "</div>"
      ],
      "text/plain": [
       "                                            OTU Name  noReads Environment\n",
       "0  Bacteria;Proteobacteria;Deltaproteobacteria;De...     3000     suboxic\n",
       "1  Bacteria;Proteobacteria;Gammaproteobacteria;Vi...     6000     suboxic\n",
       "2  Bacteria;Proteobacteria;Deltaproteobacteria;Sy...      500     suboxic\n",
       "3  Bacteria;Proteobacteria;Gammaproteobacteria;Ae...      300     suboxic\n",
       "4  Bacteria;Proteobacteria;Gammaproteobacteria;Me...        0     suboxic"
      ]
     },
     "execution_count": 113,
     "metadata": {},
     "output_type": "execute_result"
    }
   ],
   "source": [
    "dfFromDictofLists"
   ]
  },
  {
   "cell_type": "markdown",
   "metadata": {},
   "source": [
    "I have declared a new DataFrame using the function `pd.DataFrame()` , and inside is a dictionary in the format column name: data column\n",
    "\n",
    "Notice that the indices of the rows are set to the pandas default because no column has been explicitely set.\n",
    "\n",
    "To declare a DataFrame and designate an index column:"
   ]
  },
  {
   "cell_type": "code",
   "execution_count": 114,
   "metadata": {},
   "outputs": [],
   "source": [
    "dfFromDictofLists=pd.DataFrame({'noReads':noReads,'Environment':envType},index=OTUnames)"
   ]
  },
  {
   "cell_type": "markdown",
   "metadata": {},
   "source": [
    "Look at the DataFame by typing into the cell below"
   ]
  },
  {
   "cell_type": "code",
   "execution_count": 115,
   "metadata": {},
   "outputs": [
    {
     "data": {
      "text/html": [
       "<div>\n",
       "<style scoped>\n",
       "    .dataframe tbody tr th:only-of-type {\n",
       "        vertical-align: middle;\n",
       "    }\n",
       "\n",
       "    .dataframe tbody tr th {\n",
       "        vertical-align: top;\n",
       "    }\n",
       "\n",
       "    .dataframe thead th {\n",
       "        text-align: right;\n",
       "    }\n",
       "</style>\n",
       "<table border=\"1\" class=\"dataframe\">\n",
       "  <thead>\n",
       "    <tr style=\"text-align: right;\">\n",
       "      <th></th>\n",
       "      <th>noReads</th>\n",
       "      <th>Environment</th>\n",
       "    </tr>\n",
       "  </thead>\n",
       "  <tbody>\n",
       "    <tr>\n",
       "      <th>Bacteria;Proteobacteria;Deltaproteobacteria;Desulfobacterales</th>\n",
       "      <td>3000</td>\n",
       "      <td>suboxic</td>\n",
       "    </tr>\n",
       "    <tr>\n",
       "      <th>Bacteria;Proteobacteria;Gammaproteobacteria;Vibrionales</th>\n",
       "      <td>6000</td>\n",
       "      <td>suboxic</td>\n",
       "    </tr>\n",
       "    <tr>\n",
       "      <th>Bacteria;Proteobacteria;Deltaproteobacteria;Syntrophobacterales</th>\n",
       "      <td>500</td>\n",
       "      <td>suboxic</td>\n",
       "    </tr>\n",
       "    <tr>\n",
       "      <th>Bacteria;Proteobacteria;Gammaproteobacteria;Aeromonadales</th>\n",
       "      <td>300</td>\n",
       "      <td>suboxic</td>\n",
       "    </tr>\n",
       "    <tr>\n",
       "      <th>Bacteria;Proteobacteria;Gammaproteobacteria;Methylococcales</th>\n",
       "      <td>0</td>\n",
       "      <td>suboxic</td>\n",
       "    </tr>\n",
       "  </tbody>\n",
       "</table>\n",
       "</div>"
      ],
      "text/plain": [
       "                                                    noReads Environment\n",
       "Bacteria;Proteobacteria;Deltaproteobacteria;Des...     3000     suboxic\n",
       "Bacteria;Proteobacteria;Gammaproteobacteria;Vib...     6000     suboxic\n",
       "Bacteria;Proteobacteria;Deltaproteobacteria;Syn...      500     suboxic\n",
       "Bacteria;Proteobacteria;Gammaproteobacteria;Aer...      300     suboxic\n",
       "Bacteria;Proteobacteria;Gammaproteobacteria;Met...        0     suboxic"
      ]
     },
     "execution_count": 115,
     "metadata": {},
     "output_type": "execute_result"
    }
   ],
   "source": [
    "dfFromDictofLists"
   ]
  },
  {
   "cell_type": "markdown",
   "metadata": {},
   "source": [
    "The numeric default indices have been replaced by the list **OTUnames**, and OTUnames is no longer a data column"
   ]
  },
  {
   "cell_type": "markdown",
   "metadata": {},
   "source": [
    "## Declaring a DataFrame from a list of lists\n",
    "\n",
    "Let's reorder our 3 lists into a list of lists in the format `[OTUname,reads,environment]`. This format is common if prior data processing has been done by iterating through several lists in parallel"
   ]
  },
  {
   "cell_type": "code",
   "execution_count": 116,
   "metadata": {},
   "outputs": [],
   "source": [
    "bigList=[]\n",
    "\n",
    "for count,n in enumerate(OTUnames):\n",
    "    bigList.append([n,noReads[count],envType[count]])"
   ]
  },
  {
   "cell_type": "markdown",
   "metadata": {},
   "source": [
    "Look at bigList by typing it into the cell below. bigList is made of lists that contain each OTUname, count, environment type set"
   ]
  },
  {
   "cell_type": "code",
   "execution_count": 117,
   "metadata": {},
   "outputs": [
    {
     "data": {
      "text/plain": [
       "[['Bacteria;Proteobacteria;Deltaproteobacteria;Desulfobacterales',\n",
       "  3000,\n",
       "  'suboxic'],\n",
       " ['Bacteria;Proteobacteria;Gammaproteobacteria;Vibrionales', 6000, 'suboxic'],\n",
       " ['Bacteria;Proteobacteria;Deltaproteobacteria;Syntrophobacterales',\n",
       "  500,\n",
       "  'suboxic'],\n",
       " ['Bacteria;Proteobacteria;Gammaproteobacteria;Aeromonadales', 300, 'suboxic'],\n",
       " ['Bacteria;Proteobacteria;Gammaproteobacteria;Methylococcales', 0, 'suboxic']]"
      ]
     },
     "execution_count": 117,
     "metadata": {},
     "output_type": "execute_result"
    }
   ],
   "source": [
    "bigList"
   ]
  },
  {
   "cell_type": "code",
   "execution_count": 118,
   "metadata": {},
   "outputs": [],
   "source": [
    "dfFromListofLists=pd.DataFrame(bigList,columns=['OTU Name','noReads','Environment'])"
   ]
  },
  {
   "cell_type": "markdown",
   "metadata": {},
   "source": [
    "Look at the DataFrame by typing it into the cell below"
   ]
  },
  {
   "cell_type": "code",
   "execution_count": 119,
   "metadata": {},
   "outputs": [
    {
     "data": {
      "text/html": [
       "<div>\n",
       "<style scoped>\n",
       "    .dataframe tbody tr th:only-of-type {\n",
       "        vertical-align: middle;\n",
       "    }\n",
       "\n",
       "    .dataframe tbody tr th {\n",
       "        vertical-align: top;\n",
       "    }\n",
       "\n",
       "    .dataframe thead th {\n",
       "        text-align: right;\n",
       "    }\n",
       "</style>\n",
       "<table border=\"1\" class=\"dataframe\">\n",
       "  <thead>\n",
       "    <tr style=\"text-align: right;\">\n",
       "      <th></th>\n",
       "      <th>OTU Name</th>\n",
       "      <th>noReads</th>\n",
       "      <th>Environment</th>\n",
       "    </tr>\n",
       "  </thead>\n",
       "  <tbody>\n",
       "    <tr>\n",
       "      <th>0</th>\n",
       "      <td>Bacteria;Proteobacteria;Deltaproteobacteria;De...</td>\n",
       "      <td>3000</td>\n",
       "      <td>suboxic</td>\n",
       "    </tr>\n",
       "    <tr>\n",
       "      <th>1</th>\n",
       "      <td>Bacteria;Proteobacteria;Gammaproteobacteria;Vi...</td>\n",
       "      <td>6000</td>\n",
       "      <td>suboxic</td>\n",
       "    </tr>\n",
       "    <tr>\n",
       "      <th>2</th>\n",
       "      <td>Bacteria;Proteobacteria;Deltaproteobacteria;Sy...</td>\n",
       "      <td>500</td>\n",
       "      <td>suboxic</td>\n",
       "    </tr>\n",
       "    <tr>\n",
       "      <th>3</th>\n",
       "      <td>Bacteria;Proteobacteria;Gammaproteobacteria;Ae...</td>\n",
       "      <td>300</td>\n",
       "      <td>suboxic</td>\n",
       "    </tr>\n",
       "    <tr>\n",
       "      <th>4</th>\n",
       "      <td>Bacteria;Proteobacteria;Gammaproteobacteria;Me...</td>\n",
       "      <td>0</td>\n",
       "      <td>suboxic</td>\n",
       "    </tr>\n",
       "  </tbody>\n",
       "</table>\n",
       "</div>"
      ],
      "text/plain": [
       "                                            OTU Name  noReads Environment\n",
       "0  Bacteria;Proteobacteria;Deltaproteobacteria;De...     3000     suboxic\n",
       "1  Bacteria;Proteobacteria;Gammaproteobacteria;Vi...     6000     suboxic\n",
       "2  Bacteria;Proteobacteria;Deltaproteobacteria;Sy...      500     suboxic\n",
       "3  Bacteria;Proteobacteria;Gammaproteobacteria;Ae...      300     suboxic\n",
       "4  Bacteria;Proteobacteria;Gammaproteobacteria;Me...        0     suboxic"
      ]
     },
     "execution_count": 119,
     "metadata": {},
     "output_type": "execute_result"
    }
   ],
   "source": [
    "dfFromListofLists"
   ]
  },
  {
   "cell_type": "markdown",
   "metadata": {},
   "source": [
    "This produces exactly the same DataFrame as our unindexed dfFromDictofLists\n",
    "\n",
    "To set OTU Name as index for this DataFrame as we declare it would be a pain, because we would need to extract all OTU names from each smaller list in bigList. In this case it is easier to declare the index after. "
   ]
  },
  {
   "cell_type": "code",
   "execution_count": 120,
   "metadata": {},
   "outputs": [],
   "source": [
    "dfFromListofLists.set_index('OTU Name',inplace=True)"
   ]
  },
  {
   "cell_type": "markdown",
   "metadata": {},
   "source": [
    "By using the `set_index()` function, I can choose which column I want as my index column by name using an existing DataFrame. the argument `inplace` allows the user to choose whether they want to permanently alter their original DataFrame (True) or not (False)\n",
    "\n",
    "Look at the DataFrame by typing it into the cell below. The DataFrame is now the same as the indexed version of dfFromDictofLists"
   ]
  },
  {
   "cell_type": "code",
   "execution_count": 121,
   "metadata": {},
   "outputs": [
    {
     "data": {
      "text/html": [
       "<div>\n",
       "<style scoped>\n",
       "    .dataframe tbody tr th:only-of-type {\n",
       "        vertical-align: middle;\n",
       "    }\n",
       "\n",
       "    .dataframe tbody tr th {\n",
       "        vertical-align: top;\n",
       "    }\n",
       "\n",
       "    .dataframe thead th {\n",
       "        text-align: right;\n",
       "    }\n",
       "</style>\n",
       "<table border=\"1\" class=\"dataframe\">\n",
       "  <thead>\n",
       "    <tr style=\"text-align: right;\">\n",
       "      <th></th>\n",
       "      <th>noReads</th>\n",
       "      <th>Environment</th>\n",
       "    </tr>\n",
       "  </thead>\n",
       "  <tbody>\n",
       "    <tr>\n",
       "      <th>Bacteria;Proteobacteria;Deltaproteobacteria;Desulfobacterales</th>\n",
       "      <td>3000</td>\n",
       "      <td>suboxic</td>\n",
       "    </tr>\n",
       "    <tr>\n",
       "      <th>Bacteria;Proteobacteria;Gammaproteobacteria;Vibrionales</th>\n",
       "      <td>6000</td>\n",
       "      <td>suboxic</td>\n",
       "    </tr>\n",
       "    <tr>\n",
       "      <th>Bacteria;Proteobacteria;Deltaproteobacteria;Syntrophobacterales</th>\n",
       "      <td>500</td>\n",
       "      <td>suboxic</td>\n",
       "    </tr>\n",
       "    <tr>\n",
       "      <th>Bacteria;Proteobacteria;Gammaproteobacteria;Aeromonadales</th>\n",
       "      <td>300</td>\n",
       "      <td>suboxic</td>\n",
       "    </tr>\n",
       "    <tr>\n",
       "      <th>Bacteria;Proteobacteria;Gammaproteobacteria;Methylococcales</th>\n",
       "      <td>0</td>\n",
       "      <td>suboxic</td>\n",
       "    </tr>\n",
       "  </tbody>\n",
       "</table>\n",
       "</div>"
      ],
      "text/plain": [
       "                                                    noReads Environment\n",
       "Bacteria;Proteobacteria;Deltaproteobacteria;Des...     3000     suboxic\n",
       "Bacteria;Proteobacteria;Gammaproteobacteria;Vib...     6000     suboxic\n",
       "Bacteria;Proteobacteria;Deltaproteobacteria;Syn...      500     suboxic\n",
       "Bacteria;Proteobacteria;Gammaproteobacteria;Aer...      300     suboxic\n",
       "Bacteria;Proteobacteria;Gammaproteobacteria;Met...        0     suboxic"
      ]
     },
     "execution_count": 121,
     "metadata": {},
     "output_type": "execute_result"
    }
   ],
   "source": [
    "dfFromDictofLists"
   ]
  },
  {
   "cell_type": "markdown",
   "metadata": {},
   "source": [
    "## Declaring a DataFrame from a list of dictionaries\n",
    "\n",
    "A big list of dictionaries is common way to store bioinformatics data. Each dictionary in the list is made of key:value pairs for one data set at a time as with the list of lists, but each key is the intended column header.\n",
    "\n",
    "Let's first make a list of dictionaries using our original lists"
   ]
  },
  {
   "cell_type": "code",
   "execution_count": 122,
   "metadata": {},
   "outputs": [],
   "source": [
    "bigListofDicts=[]\n",
    "\n",
    "for count,n in enumerate(OTUnames):\n",
    "    d={'OTU Name':n,'noReads':noReads[count],'envType':envType[count]}\n",
    "    bigListofDicts.append(d)"
   ]
  },
  {
   "cell_type": "markdown",
   "metadata": {},
   "source": [
    "Look at the list of dictionaries by typing into cell below"
   ]
  },
  {
   "cell_type": "code",
   "execution_count": 123,
   "metadata": {},
   "outputs": [
    {
     "data": {
      "text/plain": [
       "[{'OTU Name': 'Bacteria;Proteobacteria;Deltaproteobacteria;Desulfobacterales',\n",
       "  'noReads': 3000,\n",
       "  'envType': 'suboxic'},\n",
       " {'OTU Name': 'Bacteria;Proteobacteria;Gammaproteobacteria;Vibrionales',\n",
       "  'noReads': 6000,\n",
       "  'envType': 'suboxic'},\n",
       " {'OTU Name': 'Bacteria;Proteobacteria;Deltaproteobacteria;Syntrophobacterales',\n",
       "  'noReads': 500,\n",
       "  'envType': 'suboxic'},\n",
       " {'OTU Name': 'Bacteria;Proteobacteria;Gammaproteobacteria;Aeromonadales',\n",
       "  'noReads': 300,\n",
       "  'envType': 'suboxic'},\n",
       " {'OTU Name': 'Bacteria;Proteobacteria;Gammaproteobacteria;Methylococcales',\n",
       "  'noReads': 0,\n",
       "  'envType': 'suboxic'}]"
      ]
     },
     "execution_count": 123,
     "metadata": {},
     "output_type": "execute_result"
    }
   ],
   "source": [
    "bigListofDicts"
   ]
  },
  {
   "cell_type": "markdown",
   "metadata": {},
   "source": [
    "This format is convenient because pandas will recognize each key as a column header and will know which column to place each value in to"
   ]
  },
  {
   "cell_type": "code",
   "execution_count": 124,
   "metadata": {},
   "outputs": [],
   "source": [
    "dfFromListofDicts=pd.DataFrame(bigListofDicts)\n",
    "dfFromListofDicts.set_index('OTU Name',inplace=True)"
   ]
  },
  {
   "cell_type": "markdown",
   "metadata": {},
   "source": [
    "Look at the indexed DataFrame by typing into cell below:"
   ]
  },
  {
   "cell_type": "code",
   "execution_count": 125,
   "metadata": {},
   "outputs": [
    {
     "data": {
      "text/html": [
       "<div>\n",
       "<style scoped>\n",
       "    .dataframe tbody tr th:only-of-type {\n",
       "        vertical-align: middle;\n",
       "    }\n",
       "\n",
       "    .dataframe tbody tr th {\n",
       "        vertical-align: top;\n",
       "    }\n",
       "\n",
       "    .dataframe thead th {\n",
       "        text-align: right;\n",
       "    }\n",
       "</style>\n",
       "<table border=\"1\" class=\"dataframe\">\n",
       "  <thead>\n",
       "    <tr style=\"text-align: right;\">\n",
       "      <th></th>\n",
       "      <th>noReads</th>\n",
       "      <th>envType</th>\n",
       "    </tr>\n",
       "    <tr>\n",
       "      <th>OTU Name</th>\n",
       "      <th></th>\n",
       "      <th></th>\n",
       "    </tr>\n",
       "  </thead>\n",
       "  <tbody>\n",
       "    <tr>\n",
       "      <th>Bacteria;Proteobacteria;Deltaproteobacteria;Desulfobacterales</th>\n",
       "      <td>3000</td>\n",
       "      <td>suboxic</td>\n",
       "    </tr>\n",
       "    <tr>\n",
       "      <th>Bacteria;Proteobacteria;Gammaproteobacteria;Vibrionales</th>\n",
       "      <td>6000</td>\n",
       "      <td>suboxic</td>\n",
       "    </tr>\n",
       "    <tr>\n",
       "      <th>Bacteria;Proteobacteria;Deltaproteobacteria;Syntrophobacterales</th>\n",
       "      <td>500</td>\n",
       "      <td>suboxic</td>\n",
       "    </tr>\n",
       "    <tr>\n",
       "      <th>Bacteria;Proteobacteria;Gammaproteobacteria;Aeromonadales</th>\n",
       "      <td>300</td>\n",
       "      <td>suboxic</td>\n",
       "    </tr>\n",
       "    <tr>\n",
       "      <th>Bacteria;Proteobacteria;Gammaproteobacteria;Methylococcales</th>\n",
       "      <td>0</td>\n",
       "      <td>suboxic</td>\n",
       "    </tr>\n",
       "  </tbody>\n",
       "</table>\n",
       "</div>"
      ],
      "text/plain": [
       "                                                    noReads  envType\n",
       "OTU Name                                                            \n",
       "Bacteria;Proteobacteria;Deltaproteobacteria;Des...     3000  suboxic\n",
       "Bacteria;Proteobacteria;Gammaproteobacteria;Vib...     6000  suboxic\n",
       "Bacteria;Proteobacteria;Deltaproteobacteria;Syn...      500  suboxic\n",
       "Bacteria;Proteobacteria;Gammaproteobacteria;Aer...      300  suboxic\n",
       "Bacteria;Proteobacteria;Gammaproteobacteria;Met...        0  suboxic"
      ]
     },
     "execution_count": 125,
     "metadata": {},
     "output_type": "execute_result"
    }
   ],
   "source": [
    "dfFromListofDicts"
   ]
  },
  {
   "cell_type": "markdown",
   "metadata": {},
   "source": [
    "## The basics of exploring and manipulating DataFrames\n",
    "\n",
    "The basic indexing structure of the pandas DataFrame is DataFrame.column[row] or DataFrame['columnname'][row].\n",
    "DataFrame rows and columns can be called by their zero-based indexing positions as with lists. If a DataFrame has an index column, rows should be called either by DataFrame.loc[index] or by DataFrame.iloc[rownumber] to use it's position\n",
    "\n",
    "Specifying a column but no row or vice versa will return the entire column or all columns in a given row.If a column header has a space or special characters, it cannot be called by DataFrame.column, and should be called by DataFrame['columnname']. \n",
    "\n",
    "To print indices, use DataFrame.index.\n",
    "\n",
    "Running the cell below will print all columns in the 2nd row using the .iloc method"
   ]
  },
  {
   "cell_type": "code",
   "execution_count": 126,
   "metadata": {},
   "outputs": [
    {
     "data": {
      "text/plain": [
       "noReads       6000\n",
       "envType    suboxic\n",
       "Name: Bacteria;Proteobacteria;Gammaproteobacteria;Vibrionales, dtype: object"
      ]
     },
     "execution_count": 126,
     "metadata": {},
     "output_type": "execute_result"
    }
   ],
   "source": [
    "dfFromListofDicts.iloc[1]"
   ]
  },
  {
   "cell_type": "markdown",
   "metadata": {},
   "source": [
    "The output will include each column name and its associated data in that entry. Name refers to index name.\n",
    "\n",
    "We can also call on this row by index name using .loc:"
   ]
  },
  {
   "cell_type": "code",
   "execution_count": 127,
   "metadata": {},
   "outputs": [
    {
     "data": {
      "text/plain": [
       "noReads       6000\n",
       "envType    suboxic\n",
       "Name: Bacteria;Proteobacteria;Gammaproteobacteria;Vibrionales, dtype: object"
      ]
     },
     "execution_count": 127,
     "metadata": {},
     "output_type": "execute_result"
    }
   ],
   "source": [
    "dfFromListofDicts.loc['Bacteria;Proteobacteria;Gammaproteobacteria;Vibrionales']"
   ]
  },
  {
   "cell_type": "markdown",
   "metadata": {},
   "source": [
    "Running the cell below will print all rows in the column 'noReads'"
   ]
  },
  {
   "cell_type": "code",
   "execution_count": 128,
   "metadata": {},
   "outputs": [
    {
     "data": {
      "text/plain": [
       "OTU Name\n",
       "Bacteria;Proteobacteria;Deltaproteobacteria;Desulfobacterales      3000\n",
       "Bacteria;Proteobacteria;Gammaproteobacteria;Vibrionales            6000\n",
       "Bacteria;Proteobacteria;Deltaproteobacteria;Syntrophobacterales     500\n",
       "Bacteria;Proteobacteria;Gammaproteobacteria;Aeromonadales           300\n",
       "Bacteria;Proteobacteria;Gammaproteobacteria;Methylococcales           0\n",
       "Name: noReads, dtype: int64"
      ]
     },
     "execution_count": 128,
     "metadata": {},
     "output_type": "execute_result"
    }
   ],
   "source": [
    "dfFromListofDicts['noReads']"
   ]
  },
  {
   "cell_type": "markdown",
   "metadata": {},
   "source": [
    "python will return the column of data itself, the indices (left), and at the bottom will display the name of the column and the datatype. \n",
    "\n",
    "If I wanted to know the number of reads only for, say Gammaproteobacteria entries, I can filter the index column as a list and use `.loc` to call on a subset of the noReads column. The ability to conditionally sort and manipulate DataFrames is what makes pandas so powerful for handling large and complex data sets."
   ]
  },
  {
   "cell_type": "code",
   "execution_count": 129,
   "metadata": {},
   "outputs": [
    {
     "data": {
      "text/plain": [
       "OTU Name\n",
       "Bacteria;Proteobacteria;Gammaproteobacteria;Vibrionales        6000\n",
       "Bacteria;Proteobacteria;Gammaproteobacteria;Aeromonadales       300\n",
       "Bacteria;Proteobacteria;Gammaproteobacteria;Methylococcales       0\n",
       "Name: noReads, dtype: int64"
      ]
     },
     "execution_count": 129,
     "metadata": {},
     "output_type": "execute_result"
    }
   ],
   "source": [
    "gammL=[i for i in dfFromListofDicts.index if \"Gammaproteobacteria\" in i]\n",
    "\n",
    "dfFromListofDicts['noReads'].loc[gammL]"
   ]
  },
  {
   "cell_type": "markdown",
   "metadata": {},
   "source": [
    "It is a common task in cleaning up bioinformatics datasets to remove OTUs with zero counts. We can first examine the data entry by using an argument structure that evaluates the DataFrame and returns a boolean DataFrame. That boolean DataFrame can then be placed inside of brackets to return only entries where that condition is true or false. \n",
    "\n",
    "Let's go through each part of this argument step by step and assemble the final argument. In the argument below i am testing if each entry in ['noReads'] is equal to zero. Remember when you are testing if something is equal to a value, use `==`. If `=` is used, all values in the DataFrame column will be set to that value!"
   ]
  },
  {
   "cell_type": "code",
   "execution_count": 130,
   "metadata": {},
   "outputs": [
    {
     "data": {
      "text/plain": [
       "OTU Name\n",
       "Bacteria;Proteobacteria;Deltaproteobacteria;Desulfobacterales      False\n",
       "Bacteria;Proteobacteria;Gammaproteobacteria;Vibrionales            False\n",
       "Bacteria;Proteobacteria;Deltaproteobacteria;Syntrophobacterales    False\n",
       "Bacteria;Proteobacteria;Gammaproteobacteria;Aeromonadales          False\n",
       "Bacteria;Proteobacteria;Gammaproteobacteria;Methylococcales         True\n",
       "Name: noReads, dtype: bool"
      ]
     },
     "execution_count": 130,
     "metadata": {},
     "output_type": "execute_result"
    }
   ],
   "source": [
    "dfFromListofDicts['noReads']==0"
   ]
  },
  {
   "cell_type": "markdown",
   "metadata": {},
   "source": [
    "This returns a boolean DataFrame. The entire argument is placed inside the square brackets with the DataFrame name on the outside to return all rows in the DataFrame that meet the condition"
   ]
  },
  {
   "cell_type": "code",
   "execution_count": 131,
   "metadata": {},
   "outputs": [
    {
     "data": {
      "text/html": [
       "<div>\n",
       "<style scoped>\n",
       "    .dataframe tbody tr th:only-of-type {\n",
       "        vertical-align: middle;\n",
       "    }\n",
       "\n",
       "    .dataframe tbody tr th {\n",
       "        vertical-align: top;\n",
       "    }\n",
       "\n",
       "    .dataframe thead th {\n",
       "        text-align: right;\n",
       "    }\n",
       "</style>\n",
       "<table border=\"1\" class=\"dataframe\">\n",
       "  <thead>\n",
       "    <tr style=\"text-align: right;\">\n",
       "      <th></th>\n",
       "      <th>noReads</th>\n",
       "      <th>envType</th>\n",
       "    </tr>\n",
       "    <tr>\n",
       "      <th>OTU Name</th>\n",
       "      <th></th>\n",
       "      <th></th>\n",
       "    </tr>\n",
       "  </thead>\n",
       "  <tbody>\n",
       "    <tr>\n",
       "      <th>Bacteria;Proteobacteria;Gammaproteobacteria;Methylococcales</th>\n",
       "      <td>0</td>\n",
       "      <td>suboxic</td>\n",
       "    </tr>\n",
       "  </tbody>\n",
       "</table>\n",
       "</div>"
      ],
      "text/plain": [
       "                                                    noReads  envType\n",
       "OTU Name                                                            \n",
       "Bacteria;Proteobacteria;Gammaproteobacteria;Met...        0  suboxic"
      ]
     },
     "execution_count": 131,
     "metadata": {},
     "output_type": "execute_result"
    }
   ],
   "source": [
    "dfFromListofDicts[dfFromListofDicts['noReads']==0]"
   ]
  },
  {
   "cell_type": "markdown",
   "metadata": {},
   "source": [
    "Using a similar structure, we can drop the entry from the DataFrame by condition using the pandas `.drop()` method or simply omit it from the DataFrame using the `~` operator\n",
    "\n",
    "The `.drop()` method:\n",
    "\n",
    "* basic syntax: DataFrame.drop(condition.index)\n",
    "* default settings are axis=0 (rows)\n",
    "* If dropping columns, axis=1 \n",
    "* By default inplace=False \n",
    "* If you want to alter the DataFrame permanently in place, add inplace=True to the arguments. Generally speaking, aside from setting index, I do not recommend altering any DataFrames inplace, because the original data can no longer be accessed  "
   ]
  },
  {
   "cell_type": "code",
   "execution_count": 132,
   "metadata": {},
   "outputs": [],
   "source": [
    "noZerosdfFromListofDicts=dfFromListofDicts.drop(dfFromListofDicts[dfFromListofDicts['noReads']==0].index,axis=0)"
   ]
  },
  {
   "cell_type": "markdown",
   "metadata": {},
   "source": [
    "Enter the noZeros DataFrame in the cell below to view"
   ]
  },
  {
   "cell_type": "code",
   "execution_count": 133,
   "metadata": {},
   "outputs": [
    {
     "data": {
      "text/html": [
       "<div>\n",
       "<style scoped>\n",
       "    .dataframe tbody tr th:only-of-type {\n",
       "        vertical-align: middle;\n",
       "    }\n",
       "\n",
       "    .dataframe tbody tr th {\n",
       "        vertical-align: top;\n",
       "    }\n",
       "\n",
       "    .dataframe thead th {\n",
       "        text-align: right;\n",
       "    }\n",
       "</style>\n",
       "<table border=\"1\" class=\"dataframe\">\n",
       "  <thead>\n",
       "    <tr style=\"text-align: right;\">\n",
       "      <th></th>\n",
       "      <th>noReads</th>\n",
       "      <th>envType</th>\n",
       "    </tr>\n",
       "    <tr>\n",
       "      <th>OTU Name</th>\n",
       "      <th></th>\n",
       "      <th></th>\n",
       "    </tr>\n",
       "  </thead>\n",
       "  <tbody>\n",
       "    <tr>\n",
       "      <th>Bacteria;Proteobacteria;Deltaproteobacteria;Desulfobacterales</th>\n",
       "      <td>3000</td>\n",
       "      <td>suboxic</td>\n",
       "    </tr>\n",
       "    <tr>\n",
       "      <th>Bacteria;Proteobacteria;Gammaproteobacteria;Vibrionales</th>\n",
       "      <td>6000</td>\n",
       "      <td>suboxic</td>\n",
       "    </tr>\n",
       "    <tr>\n",
       "      <th>Bacteria;Proteobacteria;Deltaproteobacteria;Syntrophobacterales</th>\n",
       "      <td>500</td>\n",
       "      <td>suboxic</td>\n",
       "    </tr>\n",
       "    <tr>\n",
       "      <th>Bacteria;Proteobacteria;Gammaproteobacteria;Aeromonadales</th>\n",
       "      <td>300</td>\n",
       "      <td>suboxic</td>\n",
       "    </tr>\n",
       "  </tbody>\n",
       "</table>\n",
       "</div>"
      ],
      "text/plain": [
       "                                                    noReads  envType\n",
       "OTU Name                                                            \n",
       "Bacteria;Proteobacteria;Deltaproteobacteria;Des...     3000  suboxic\n",
       "Bacteria;Proteobacteria;Gammaproteobacteria;Vib...     6000  suboxic\n",
       "Bacteria;Proteobacteria;Deltaproteobacteria;Syn...      500  suboxic\n",
       "Bacteria;Proteobacteria;Gammaproteobacteria;Aer...      300  suboxic"
      ]
     },
     "execution_count": 133,
     "metadata": {},
     "output_type": "execute_result"
    }
   ],
   "source": [
    "noZerosdfFromListofDicts"
   ]
  },
  {
   "cell_type": "markdown",
   "metadata": {},
   "source": [
    "the `~` method:\n",
    "\n",
    "* basic syntax: df[~(condition)]"
   ]
  },
  {
   "cell_type": "code",
   "execution_count": 134,
   "metadata": {},
   "outputs": [],
   "source": [
    "noZerosdfFromListofDicts=dfFromListofDicts[~(dfFromListofDicts['noReads']==0)]"
   ]
  },
  {
   "cell_type": "markdown",
   "metadata": {},
   "source": [
    "Enter the noZeros DataFrame in the cell below to view"
   ]
  },
  {
   "cell_type": "code",
   "execution_count": 135,
   "metadata": {},
   "outputs": [
    {
     "data": {
      "text/html": [
       "<div>\n",
       "<style scoped>\n",
       "    .dataframe tbody tr th:only-of-type {\n",
       "        vertical-align: middle;\n",
       "    }\n",
       "\n",
       "    .dataframe tbody tr th {\n",
       "        vertical-align: top;\n",
       "    }\n",
       "\n",
       "    .dataframe thead th {\n",
       "        text-align: right;\n",
       "    }\n",
       "</style>\n",
       "<table border=\"1\" class=\"dataframe\">\n",
       "  <thead>\n",
       "    <tr style=\"text-align: right;\">\n",
       "      <th></th>\n",
       "      <th>noReads</th>\n",
       "      <th>envType</th>\n",
       "    </tr>\n",
       "    <tr>\n",
       "      <th>OTU Name</th>\n",
       "      <th></th>\n",
       "      <th></th>\n",
       "    </tr>\n",
       "  </thead>\n",
       "  <tbody>\n",
       "    <tr>\n",
       "      <th>Bacteria;Proteobacteria;Deltaproteobacteria;Desulfobacterales</th>\n",
       "      <td>3000</td>\n",
       "      <td>suboxic</td>\n",
       "    </tr>\n",
       "    <tr>\n",
       "      <th>Bacteria;Proteobacteria;Gammaproteobacteria;Vibrionales</th>\n",
       "      <td>6000</td>\n",
       "      <td>suboxic</td>\n",
       "    </tr>\n",
       "    <tr>\n",
       "      <th>Bacteria;Proteobacteria;Deltaproteobacteria;Syntrophobacterales</th>\n",
       "      <td>500</td>\n",
       "      <td>suboxic</td>\n",
       "    </tr>\n",
       "    <tr>\n",
       "      <th>Bacteria;Proteobacteria;Gammaproteobacteria;Aeromonadales</th>\n",
       "      <td>300</td>\n",
       "      <td>suboxic</td>\n",
       "    </tr>\n",
       "  </tbody>\n",
       "</table>\n",
       "</div>"
      ],
      "text/plain": [
       "                                                    noReads  envType\n",
       "OTU Name                                                            \n",
       "Bacteria;Proteobacteria;Deltaproteobacteria;Des...     3000  suboxic\n",
       "Bacteria;Proteobacteria;Gammaproteobacteria;Vib...     6000  suboxic\n",
       "Bacteria;Proteobacteria;Deltaproteobacteria;Syn...      500  suboxic\n",
       "Bacteria;Proteobacteria;Gammaproteobacteria;Aer...      300  suboxic"
      ]
     },
     "execution_count": 135,
     "metadata": {},
     "output_type": "execute_result"
    }
   ],
   "source": [
    "noZerosdfFromListofDicts"
   ]
  }
 ],
 "metadata": {
  "kernelspec": {
   "display_name": "Python 3",
   "language": "python",
   "name": "python3"
  },
  "language_info": {
   "codemirror_mode": {
    "name": "ipython",
    "version": 3
   },
   "file_extension": ".py",
   "mimetype": "text/x-python",
   "name": "python",
   "nbconvert_exporter": "python",
   "pygments_lexer": "ipython3",
   "version": "3.7.4"
  }
 },
 "nbformat": 4,
 "nbformat_minor": 4
}
