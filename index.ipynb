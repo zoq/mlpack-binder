{
 "cells": [
  {
   "cell_type": "markdown",
   "metadata": {
    "slideshow": {
     "slide_type": "slide"
    }
   },
   "source": [
    "# Python basics continued\n",
    "See [here](https://github.com/fomightez/Python_basics_4nanocourse) for information about this notebook.\n",
    "\n",
    "------\n",
    "\n",
    "<div class=\"alert alert-block alert-warning\">\n",
    "<p>If you haven't used one of these notebooks before, they're basically web pages in which you can write, edit, and run live code. They're meant to encourage experimentation, so don't feel nervous. Just try running a few cells and see what happens!.</p>\n",
    "\n",
    "<p>\n",
    "    Some tips:\n",
    "    <ul>\n",
    "        <li>Code cells have boxes around them.</li>\n",
    "        <li>To run a code cell either click the Play icon on the menu bar above, or click on the cell and then hit <b>Shift+Enter</b>. The <b>Shift+Enter</b> combo will also move you to the next cell, so it's a quick way to work through the notebook.</li>\n",
    "        <li>While a cell is running a <b>*</b> appears in the square brackets next to the cell. Once the cell has finished running the asterisk will be replaced with a number.</li>\n",
    "        <li>In most cases you'll want to start from the top of notebook and work your way down running each cell in turn. Later cells might depend on the results of earlier ones.</li>\n",
    "        <li>To edit a code cell, just click on it and type stuff. Remember to run the cell once you've finished editing.</li>\n",
    "    </ul>\n",
    "</p>\n",
    "</div>\n",
    "\n",
    "\n",
    "These sessions are temporary and will time out after ten minutes of inactivity. However, a safety net is built in if you start doing serious work in these. Even if it times out, you can save the notebook and upload it again later. See the notebook [safety net demo](safety%20net%20demo.ipynb) so that you are prepared for when it happens. You won't be able to open the demo if it has already happened.\n",
    "\n",
    "----\n",
    "\n"
   ]
  },
  {
   "cell_type": "markdown",
   "metadata": {
    "slideshow": {
     "slide_type": "slide"
    }
   },
   "source": [
    "WHEN TO CODE\n",
    "\n",
    "\n",
    "Don't forget regular expressions and basic shell commands can handle a lot of your text and file manipulation needs.\n",
    "<br></br> \n",
    "<br></br>   \n",
    "When you reach the limit of what you can easily do with those, then you need to code.\n"
   ]
  },
  {
   "cell_type": "markdown",
   "metadata": {
    "slideshow": {
     "slide_type": "slide"
    }
   },
   "source": [
    "RELATED DEMOS:\n",
    "    \n",
    "- Regular expression use to edit a file\n",
    "\n",
    "- As an example of using terminal / command line / bash / shell / unix, use JupyterLab"
   ]
  },
  {
   "cell_type": "markdown",
   "metadata": {
    "slideshow": {
     "slide_type": "slide"
    }
   },
   "source": [
    "Regular Expression demonstration.\n",
    "    \n",
    "Work though 'Pre-processing this PDB file to look more typical using regular expressions' section from session #3  (skipped than in the interest of time)."
   ]
  },
  {
   "cell_type": "markdown",
   "metadata": {
    "slideshow": {
     "slide_type": "slide"
    }
   },
   "source": [
    "## Pre-processing this PDB file to look more typical using regular expressions\n",
    "\n",
    "Use a file derived from [PDB entry for 3hyd](https://files.rcsb.org/view/3hyd.pdb) to see about columns.\n",
    "\n",
    "3hyd we saw in the electron density cloud to isomesh demo tosay.\n",
    "\n",
    "[PDB entry for 3hyd](https://files.rcsb.org/view/3hyd.pdb) was modified to remove the anisotropic temperature factor lines. They begin with `ANISOU`. \n",
    "\n",
    "To remove those lines from the original [3hyd.pdb](3hyd.pdb) file, I used regular expressions in a text editor. (Not Microsoft Word). This is like fancy 'Find and replace'.  \n",
    "We could use Python for this data pre-procesing step, but sometimes there is an easier way.\n",
    "\n",
    "The specifics are spelled out in [How_made_without_ANISOU_lines.md](How_made_without_ANISOU_lines.md). \n",
    "\n",
    "Let's use a fragment of the PDB file to see how it is done. We'll use [REGEX101](https://regex101.com/) to demonstrate right now.\n",
    "\n",
    "Performing that process on `3hyd.pdb` results in [3hydWITHOUTanisouLINES.pdb](3hydWITHOUTanisouLINES.pdb)."
   ]
  },
  {
   "cell_type": "markdown",
   "metadata": {
    "slideshow": {
     "slide_type": "slide"
    }
   },
   "source": [
    "### ALSO DO THIS IN JUPYTERLAB editor today\n",
    "\n",
    "## Pre-processing this PDB file to look more typical using regular expressions\n",
    "\n",
    "Use a file derived from [PDB entry for 3hyd](https://files.rcsb.org/view/3hyd.pdb) to see about columns.\n",
    "\n",
    "3hyd we saw in the electron density cloud to isomesh demo tosay.\n",
    "\n",
    "[PDB entry for 3hyd](https://files.rcsb.org/view/3hyd.pdb) was modified to remove the anisotropic temperature factor lines. They begin with `ANISOU`. \n",
    "\n",
    "To remove those lines from the original [3hyd.pdb](3hyd.pdb) file, I used regular expressions in a text editor. (Not Microsoft Word). This is like fancy 'Find and replace'.  \n",
    "We could use Python for this data pre-procesing step, but sometimes there is an easier way.\n",
    "\n",
    "The specifics are spelled out in [How_made_without_ANISOU_lines.md](How_made_without_ANISOU_lines.md). \n",
    "\n",
    "Let's use a fragment of the PDB file to see how it is done. We'll use [REGEX101](https://regex101.com/) to demonstrate right now.\n",
    "\n",
    "Performing that process on `3hyd.pdb` results in [3hydWITHOUTanisouLINES.pdb](3hydWITHOUTanisouLINES.pdb)."
   ]
  },
  {
   "cell_type": "markdown",
   "metadata": {
    "slideshow": {
     "slide_type": "slide"
    }
   },
   "source": [
    "RELATED DEMOS:\n",
    "    \n",
    "- Regular expression use to edit a file\n",
    "\n",
    "- As an example of using **terminal / command line / bash / shell / unix**, use JupyterLab. \n",
    "    \n",
    "    - How do you find the terminal in JupyterLab? \n",
    "    - How do you list the files? \n",
    "    - Example of writing text to file. \n",
    "    - You can loop, use wild-cards, and all sorts of stuff we don't have time to really show in this nanocourse.\n",
    "\n",
    "    loop to get multiple PDB files. We covered using `curl` shell command last time. Example with fetching multiple PDB files to paste into terminal and run by hitting return:\n",
    "    \n",
    "    ```bash\n",
    "    for id in 1avw 1d66 1trn 1f8a 1pin\n",
    "    do\n",
    "        curl -OL https://files.rcsb.org/download/$id.pdb\n",
    "    done```\n"
   ]
  },
  {
   "cell_type": "markdown",
   "metadata": {
    "slideshow": {
     "slide_type": "slide"
    }
   },
   "source": [
    "WHEN TO CODE\n",
    "\n",
    "\n",
    "Don't forget regular expressions and basic shell commands can handle a lot of your text and file manipulation needs.\n",
    "<br></br> \n",
    "<br></br>   \n",
    "When you reach the limit of what you can easily do with those, then you need to code.\n"
   ]
  },
  {
   "cell_type": "markdown",
   "metadata": {
    "slideshow": {
     "slide_type": "slide"
    }
   },
   "source": [
    "Why Python?\n",
    "\n",
    "- high-level language where code is similar to written English/pseudocode\n",
    "- easy to learn and powerful\n",
    "- large community & open source, with many features well developed\n",
    "- no compiling needed"
   ]
  },
  {
   "cell_type": "markdown",
   "metadata": {
    "slideshow": {
     "slide_type": "slide"
    }
   },
   "source": [
    "Drawbacks?\n",
    "\n",
    "- zero-indexing (We're more used to referring to item in first position as `#1`)\n",
    "- white space / formatting matters\n",
    "- Python 2 vs 3 controversy (resolved now: Use 3!)\n",
    "- despite being a high-level language, syntax still matters\n",
    "- dynamic typing (a.k.a.duck typing) (But you can static type now!)"
   ]
  },
  {
   "cell_type": "markdown",
   "metadata": {
    "slideshow": {
     "slide_type": "slide"
    }
   },
   "source": [
    "Other options?\n",
    "\n",
    "R is great for statistics.  \n",
    "Since a lot of high-throughput Illumina sequencing and single-cell sequencing uses statiscis for interpreting, you'll see a lot of analysis packages built in R.\n",
    "\n",
    "Many other options as well, such as Julia or Rust"
   ]
  },
  {
   "cell_type": "markdown",
   "metadata": {
    "slideshow": {
     "slide_type": "slide"
    }
   },
   "source": [
    "Where?\n",
    "\n",
    "For today, we're using remote machines with JupyterLab.  \n",
    "(Note that the content is hosted on GitHub and I use git to keep it version controlled from my local computer.)  \n",
    "Added some useful features you won't find in Jupyter sessions everywhere:\n",
    "\n",
    "- safety net for timeouts\n",
    "\n",
    "- visual debugger, see [debugger demo notebook](debugger_demo.ipynb) and [here](https://github.com/jupyterlab/debugger) for a sense of how to use it. Needs speciak XeusPython kernel so you cannot use it in every notebook immediately.\n",
    "\n",
    "- Table of Contents extension"
   ]
  },
  {
   "cell_type": "markdown",
   "metadata": {
    "slideshow": {
     "slide_type": "slide"
    }
   },
   "source": [
    "Safety net demonstration.\n",
    "\n",
    "Open [safety net demo](safety%20net%20demo.ipynb) notebook."
   ]
  },
  {
   "cell_type": "markdown",
   "metadata": {
    "slideshow": {
     "slide_type": "slide"
    }
   },
   "source": [
    "<b>More on 'where?'</b>\n",
    "\n",
    "You'll want to use a dedicated text editor. (Or an Integrated Development Environment (IDE).) \n",
    "This means it has special settings to recognize code based on extensions and helps format ('spaces' vs. 'tabs', anyone?) and auto-complete correctly.  \n",
    "It also **usually means they have regular expression ability built right in**. (But some I'm showing below are just editors without that. Stick with first five if you want locally-installed software with regular expressions built in.)  \n",
    "Nothing related to Microsoft unless it is [VSCode](https://code.visualstudio.com/) ; [try in your browser via Binder](https://github.com/betatim/vscode-binder/tree/master).\n",
    "\n",
    "A few possiblilities:\n",
    "- [VSCode](https://code.visualstudio.com/) ; [try in your browser via Binder](https://github.com/betatim/vscode-binder/tree/master)\n",
    "- Sublime Text (Note `.*` button toggled on in lower left [here](https://sheabunge.com/wp-content/uploads/sublime-text-comment-regex.png).)\n",
    "- [Atom](https://atom.io/) (similar regular epxression button as Sublime Text, see [here](http://2017.compciv.org/guide/topics/end-user-software/atom/how-to-use-regex-atom.html))\n",
    "- [Theia](https://theia-ide.org/) ; [try in your browser via Binder](https://github.com/betatim/theia-binder)\n",
    "- [Notepad++](https://notepad-plus-plus.org/downloads/)\n",
    "- [PythonAnywhere](https://www.pythonanywhere.com/) (only online)\n",
    "- [Gitpod](https://www.gitpod.io/) (only online and only for GitHub or GitLab, but same people make Theia)\n",
    "- PyCharm (popular IDE)\n",
    "- Jupyter (We'll use again today)\n",
    ""
   ]
  },
  {
   "cell_type": "markdown",
   "metadata": {
    "slideshow": {
     "slide_type": "slide"
    }
   },
   "source": [
    "<b>Final(?): more on 'where?'</b>\n",
    "    \n",
    "Alaji suggested session #4 on April 23rd I'd help you install local, but actually I am more often installing remote that can be accessed from any local machine I happen to be on.\n",
    "\n",
    "- [MyBinder](https://mybinder.org/)\n",
    "- [Cyverse](https://cyverse.org/)\n",
    "\n",
    "We'll soon see an example like that I made for Nathan to run large batches of analyses; tpyically 700 sequences.\n",
    "    \n",
    "If you do want to install locally, there are way to use **conda** environments or **virtual python environments (venvs)** in your local system to not mess up your other directly installed software. Alternatively, you can install into a Docker container that you run locally. ([MyBinder](https://mybinder.org/), and a lot of other tech these days, actually includes Docker somewhere in the stack.)\n",
    "    \n",
    "The important point is there are a number of ways now to safely attempt to install things with no chance to mess up your system. However, installing to what will be spun up as a remote session via Binder has the advantage of portability and reproducibility over anhything local when you aren't needing to deal with massive amounts of data. If you need a step up from MyBinder, [Cyverse](https://cyverse.org/) is an NSF backed, managed version of Jetstream/XSEDE-like systems that also lets you run software and notebooks that spin up on remote systems. You just have to be a scientist, and you can easily get an account that gives you a monthly allocation. You can apply to have enhanced even more if you have substantial needs. \n",
    "    \n",
    "I'd be happy to talk with anyone more about these options down the road.\n",
    "\n",
    "**Final(?): more on 'why Python (or R)?'**\n",
    "    \n",
    "Open source will serve you better in the long run than proprietary/licensed-based/subscription-based software.\n",
    "    \n",
    "If you learn MATLAB, when you move on to another lab or workplace somewhere else, you have to hope they have a license or pay yourself. (The skills and concepts picked up by learning MATLAB would though serve you well.)\n",
    "    \n",
    "More portable between different computers in short-term as well.\n",
    ""
   ]
  },
  {
   "cell_type": "markdown",
   "metadata": {
    "slideshow": {
     "slide_type": "slide"
    }
   },
   "source": [
    "-------\n",
    "\n",
    "\n",
    "## Starting simple \n",
    "\n",
    "\n",
    "## Pre-processing this PDB file to look more typical using regular expressions\n",
    "\n",
    "Use a file derived from [PDB entry for 3hyd](https://files.rcsb.org/view/3hyd.pdb) to see about columns.\n",
    "\n",
    "3hyd we saw in the electron density cloud to isomesh demo tosay.\n",
    "\n",
    "[PDB entry for 3hyd](https://files.rcsb.org/view/3hyd.pdb) was modified to remove the anisotropic temperature factor lines. They begin with `ANISOU`. \n",
    "\n",
    "To remove those lines from the original [3hyd.pdb](3hyd.pdb) file, I used regular expressions in a text editor. (Not Microsoft Word). This is like fancy 'Find and replace'.  \n",
    "We could use Python for this data pre-procesing step, but sometimes there is an easier way.\n",
    "\n",
    "The specifics are spelled out in [How_made_without_ANISOU_lines.md](How_made_without_ANISOU_lines.md). \n",
    "\n",
    "Let's use a fragment of the PDB file to see how it is done. We'll use [REGEX101](https://regex101.com/) to demonstrate right now.\n",
    "\n",
    "Performing that process on `3hyd.pdb` results in [3hydWITHOUTanisouLINES.pdb](3hydWITHOUTanisouLINES.pdb).\n",
    "\n",
    "### Assigned edited text to a variable\n",
    "\n",
    "We'll use the ATOM section of that that to define `t`."
   ]
  },
  {
   "cell_type": "code",
   "execution_count": null,
   "metadata": {
    "slideshow": {
     "slide_type": "slide"
    }
   },
   "outputs": [],
   "source": [
    "t='''ATOM      1  N   LEU A   1       1.149   1.920   3.550  1.00  5.65           N  \n",
    "ATOM      2  CA  LEU A   1       2.138   2.288   4.580  1.00  5.04           C  \n",
    "ATOM      3  C   LEU A   1       3.461   1.638   4.282  1.00  3.88           C  \n",
    "ATOM      4  O   LEU A   1       3.527   0.405   4.165  1.00  4.79           O  \n",
    "ATOM      5  CB  LEU A   1       1.635   1.889   5.948  1.00  6.19           C  \n",
    "ATOM      6  CG  LEU A   1       2.444   2.344   7.182  1.00 10.41           C  \n",
    "ATOM      7  CD1 LEU A   1       1.603   2.227   8.438  1.00 18.81           C  \n",
    "ATOM      8  CD2 LEU A   1       3.699   1.583   7.375  1.00 10.45           C  \n",
    "ATOM      9  H1  LEU A   1       1.127   0.953   3.458  1.00  5.40           H  \n",
    "ATOM     10  H2  LEU A   1       0.274   2.239   3.813  1.00  5.15           H  \n",
    "ATOM     11  H3  LEU A   1       1.404   2.323   2.704  1.00  5.24           H  \n",
    "ATOM     12  HA  LEU A   1       2.249   3.258   4.575  1.00  4.84           H  \n",
    "ATOM     13  HB2 LEU A   1       0.742   2.251   6.048  1.00  6.49           H  \n",
    "ATOM     14  HB3 LEU A   1       1.585   0.920   5.978  1.00  6.58           H  \n",
    "ATOM     15  HG  LEU A   1       2.680   3.278   7.071  1.00 10.84           H  \n",
    "ATOM     16 HD11 LEU A   1       2.094   2.588   9.181  1.00 14.99           H  \n",
    "ATOM     17 HD12 LEU A   1       1.404   1.298   8.594  1.00 15.61           H  \n",
    "ATOM     18 HD13 LEU A   1       0.787   2.722   8.316  1.00 15.30           H  \n",
    "ATOM     19 HD21 LEU A   1       3.547   0.650   7.120  1.00 10.08           H  \n",
    "ATOM     20 HD22 LEU A   1       3.964   1.634   8.317  1.00 10.06           H  \n",
    "ATOM     21 HD23 LEU A   1       4.396   1.980   6.816  1.00  9.93           H  \n",
    "ATOM     22  N   VAL A   2       4.521   2.434   4.230  1.00  3.54           N  \n",
    "ATOM     23  CA  VAL A   2       5.866   1.930   4.058  1.00  3.13           C  \n",
    "ATOM     24  C   VAL A   2       6.790   2.592   5.064  1.00  3.68           C  \n",
    "ATOM     25  O   VAL A   2       6.806   3.837   5.179  1.00  4.26           O  \n",
    "ATOM     26  CB  VAL A   2       6.425   2.168   2.650  1.00  3.78           C  \n",
    "ATOM     27  CG1 VAL A   2       7.834   1.667   2.541  1.00  5.01           C  \n",
    "ATOM     28  CG2 VAL A   2       5.522   1.554   1.584  1.00  5.05           C  \n",
    "ATOM     29  H   VAL A   2       4.482   3.290   4.290  1.00  3.28           H  \n",
    "ATOM     30  HA  VAL A   2       5.875   0.967   4.219  1.00  3.38           H  \n",
    "ATOM     31  HB  VAL A   2       6.447   3.134   2.489  1.00  3.90           H  \n",
    "ATOM     32 HG11 VAL A   2       8.026   1.465   1.622  1.00  4.53           H  \n",
    "ATOM     33 HG12 VAL A   2       7.933   0.873   3.073  1.00  4.63           H  \n",
    "ATOM     34 HG13 VAL A   2       8.436   2.348   2.851  1.00  4.60           H  \n",
    "ATOM     35 HG21 VAL A   2       5.433   0.614   1.755  1.00  4.78           H  \n",
    "ATOM     36 HG22 VAL A   2       5.916   1.693   0.720  1.00  4.65           H  \n",
    "ATOM     37 HG23 VAL A   2       4.662   1.976   1.619  1.00  4.78           H  \n",
    "ATOM     38  N   GLU A   3       7.567   1.777   5.771  1.00  2.92           N  \n",
    "ATOM     39  CA AGLU A   3       8.674   2.248   6.587  0.50  3.42           C  \n",
    "ATOM     40  CA BGLU A   3       8.670   2.254   6.575  0.50  3.37           C  \n",
    "ATOM     41  C   GLU A   3       9.920   1.636   5.964  1.00  2.87           C  \n",
    "ATOM     42  O   GLU A   3      10.041   0.405   5.901  1.00  3.28           O  \n",
    "ATOM     43  CB AGLU A   3       8.541   1.813   8.049  0.50  3.31           C  \n",
    "ATOM     44  CB BGLU A   3       8.513   1.848   8.037  0.50  3.20           C  \n",
    "ATOM     45  CG AGLU A   3       9.625   2.367   8.970  0.50  3.86           C  \n",
    "ATOM     46  CG BGLU A   3       9.663   2.264   8.926  0.50  4.43           C  \n",
    "ATOM     47  CD AGLU A   3       9.581   1.798  10.378  0.50  4.30           C  \n",
    "ATOM     48  CD BGLU A   3       9.372   2.079  10.393  0.50  7.27           C  \n",
    "ATOM     49  OE1AGLU A   3       9.326   0.609  10.555  0.50  4.93           O  \n",
    "ATOM     50  OE1BGLU A   3       8.211   1.826  10.769  0.50  8.58           O  \n",
    "ATOM     51  OE2AGLU A   3       9.823   2.595  11.317  0.50  5.24           O  \n",
    "ATOM     52  OE2BGLU A   3      10.301   2.252  11.187  0.50  5.38           O  \n",
    "ATOM     53  H   GLU A   3       7.465   0.924   5.796  1.00  3.13           H  \n",
    "ATOM     54  HA AGLU A   3       8.739   3.223   6.557  0.50  3.34           H  \n",
    "ATOM     55  HA BGLU A   3       8.736   3.228   6.532  0.50  3.32           H  \n",
    "ATOM     56  HB2AGLU A   3       7.685   2.119   8.386  0.50  3.51           H  \n",
    "ATOM     57  HB2BGLU A   3       7.707   2.257   8.388  0.50  3.63           H  \n",
    "ATOM     58  HB3AGLU A   3       8.581   0.845   8.093  0.50  3.50           H  \n",
    "ATOM     59  HB3BGLU A   3       8.438   0.883   8.085  0.50  3.60           H  \n",
    "ATOM     60  HG2AGLU A   3      10.496   2.159   8.600  0.50  3.92           H  \n",
    "ATOM     61  HG2BGLU A   3      10.441   1.727   8.712  0.50  4.83           H  \n",
    "ATOM     62  HG3AGLU A   3       9.518   3.329   9.035  0.50  4.00           H  \n",
    "ATOM     63  HG3BGLU A   3       9.855   3.203   8.775  0.50  4.81           H  \n",
    "ATOM     64  N   ALA A   4      10.842   2.465   5.490  1.00  2.75           N  \n",
    "ATOM     65  CA  ALA A   4      12.006   2.016   4.750  1.00  3.09           C  \n",
    "ATOM     66  C   ALA A   4      13.270   2.689   5.248  1.00  2.94           C  \n",
    "ATOM     67  O   ALA A   4      13.284   3.899   5.529  1.00  3.58           O  \n",
    "ATOM     68  CB  ALA A   4      11.833   2.220   3.258  1.00  4.15           C  \n",
    "ATOM     69  H   ALA A   4      10.814   3.320   5.588  1.00  2.76           H  \n",
    "ATOM     70  HA  ALA A   4      12.112   1.056   4.889  1.00  3.11           H  \n",
    "ATOM     71  HB1 ALA A   4      11.060   1.734   2.964  1.00  3.79           H  \n",
    "ATOM     72  HB2 ALA A   4      12.615   1.896   2.807  1.00  3.83           H  \n",
    "ATOM     73  HB3 ALA A   4      11.717   3.157   3.082  1.00  3.98           H  \n",
    "ATOM     74  N   LEU A   5      14.334   1.918   5.332  1.00  2.99           N  \n",
    "ATOM     75  CA  LEU A   5      15.634   2.369   5.796  1.00  3.30           C  \n",
    "ATOM     76  C   LEU A   5      16.689   1.821   4.849  1.00  3.28           C  \n",
    "ATOM     77  O   LEU A   5      16.716   0.605   4.614  1.00  3.43           O  \n",
    "ATOM     78  CB  LEU A   5      15.875   1.877   7.209  1.00  4.50           C  \n",
    "ATOM     79  CG  LEU A   5      17.250   2.151   7.852  1.00  9.40           C  \n",
    "ATOM     80  CD1 LEU A   5      17.789   3.495   7.677  1.00  9.16           C  \n",
    "ATOM     81  CD2 LEU A   5      17.128   1.821   9.337  1.00 11.72           C  \n",
    "ATOM     82  H   LEU A   5      14.330   1.085   5.118  1.00  2.86           H  \n",
    "ATOM     83  HA  LEU A   5      15.679   3.347   5.792  1.00  3.38           H  \n",
    "ATOM     84  HB2 LEU A   5      15.205   2.260   7.785  1.00  4.85           H  \n",
    "ATOM     85  HB3 LEU A   5      15.765   0.916   7.196  1.00  4.98           H  \n",
    "ATOM     86  HG  LEU A   5      17.893   1.532   7.474  1.00  8.68           H  \n",
    "ATOM     87 HD11 LEU A   5      18.580   3.588   8.214  1.00  8.30           H  \n",
    "ATOM     88 HD12 LEU A   5      17.128   4.128   7.958  1.00  8.71           H  \n",
    "ATOM     89 HD13 LEU A   5      18.004   3.632   6.753  1.00  8.61           H  \n",
    "ATOM     90 HD21 LEU A   5      16.648   2.528   9.774  1.00 10.72           H  \n",
    "ATOM     91 HD22 LEU A   5      18.009   1.743   9.711  1.00 10.33           H  \n",
    "ATOM     92 HD23 LEU A   5      16.655   0.991   9.440  1.00 10.20           H  \n",
    "ATOM     93  N   TYR A   6      17.519   2.699   4.281  1.00  3.06           N  \n",
    "ATOM     94  CA  TYR A   6      18.548   2.342   3.321  1.00  3.08           C  \n",
    "ATOM     95  C   TYR A   6      19.876   2.878   3.804  1.00  3.48           C  \n",
    "ATOM     96  O   TYR A   6      20.024   4.082   3.994  1.00  4.60           O  \n",
    "ATOM     97  CB  TYR A   6      18.275   2.935   1.947  1.00  3.85           C  \n",
    "ATOM     98  CG  TYR A   6      16.873   2.775   1.400  1.00  3.42           C  \n",
    "ATOM     99  CD1 TYR A   6      15.855   3.614   1.819  1.00  3.67           C  \n",
    "ATOM    100  CD2 TYR A   6      16.556   1.796   0.450  1.00  3.75           C  \n",
    "ATOM    101  CE1 TYR A   6      14.558   3.509   1.303  1.00  3.54           C  \n",
    "ATOM    102  CE2 TYR A   6      15.281   1.695  -0.071  1.00  3.30           C  \n",
    "ATOM    103  CZ  TYR A   6      14.283   2.550   0.357  1.00  3.37           C  \n",
    "ATOM    104  OH  TYR A   6      13.017   2.418  -0.175  1.00  3.64           O  \n",
    "ATOM    105  H   TYR A   6      17.497   3.543   4.445  1.00  2.94           H  \n",
    "ATOM    106  HA  TYR A   6      18.611   1.369   3.230  1.00  3.22           H  \n",
    "ATOM    107  HB2 TYR A   6      18.454   3.887   1.978  1.00  3.50           H  \n",
    "ATOM    108  HB3 TYR A   6      18.879   2.517   1.315  1.00  3.43           H  \n",
    "ATOM    109  HD1 TYR A   6      16.041   4.275   2.443  1.00  3.43           H  \n",
    "ATOM    110  HD2 TYR A   6      17.223   1.227   0.139  1.00  3.37           H  \n",
    "ATOM    111  HE1 TYR A   6      13.891   4.088   1.592  1.00  3.38           H  \n",
    "ATOM    112  HE2 TYR A   6      15.090   1.043  -0.705  1.00  3.24           H  \n",
    "ATOM    113  HH  TYR A   6      12.808   3.103  -0.576  1.00  3.44           H  \n",
    "ATOM    114  N   LEU A   7      20.857   2.006   3.973  1.00  4.38           N  \n",
    "ATOM    115  CA  LEU A   7      22.208   2.473   4.312  1.00  6.08           C  \n",
    "ATOM    116  C   LEU A   7      23.293   1.644   3.744  1.00  7.46           C  \n",
    "ATOM    117  O   LEU A   7      23.018   0.697   3.000  1.00 13.45           O  \n",
    "ATOM    118  CB  LEU A   7      22.356   2.753   5.793  1.00 11.09           C  \n",
    "ATOM    119  CG  LEU A   7      22.263   1.578   6.717  1.00 11.34           C  \n",
    "ATOM    120  CD1 LEU A   7      22.913   1.965   8.038  1.00 18.81           C  \n",
    "ATOM    121  CD2 LEU A   7      20.853   1.118   7.009  1.00 11.10           C  \n",
    "ATOM    122  OXT LEU A   7      24.470   1.913   3.995  1.00  9.60           O  \n",
    "ATOM    123  H   LEU A   7      20.779   1.153   3.901  1.00  4.08           H  \n",
    "ATOM    124  HA  LEU A   7      22.322   3.342   3.880  1.00  6.70           H  \n",
    "ATOM    125  HB2 LEU A   7      23.219   3.171   5.933  1.00  9.43           H  \n",
    "ATOM    126  HB3 LEU A   7      21.660   3.376   6.052  1.00  9.61           H  \n",
    "ATOM    127  HG  LEU A   7      22.755   0.830   6.347  1.00 11.80           H  \n",
    "ATOM    128 HD11 LEU A   7      23.845   2.140   7.890  1.00 14.43           H  \n",
    "ATOM    129 HD12 LEU A   7      22.815   1.242   8.663  1.00 14.59           H  \n",
    "ATOM    130 HD13 LEU A   7      22.483   2.753   8.379  1.00 14.87           H  \n",
    "ATOM    131 HD21 LEU A   7      20.870   0.474   7.720  1.00 10.59           H  \n",
    "ATOM    132 HD22 LEU A   7      20.484   0.716   6.220  1.00 10.51           H  \n",
    "ATOM    133 HD23 LEU A   7      20.323   1.876   7.268  1.00 10.64           H  '''"
   ]
  },
  {
   "cell_type": "markdown",
   "metadata": {
    "slideshow": {
     "slide_type": "slide"
    }
   },
   "source": [
    "## Indexing and `if` / conditional\n",
    "\n",
    "Splitting on the `new line` character `\\n` makes a list of the lines."
   ]
  },
  {
   "cell_type": "code",
   "execution_count": null,
   "metadata": {
    "slideshow": {
     "slide_type": "slide"
    }
   },
   "outputs": [],
   "source": [
    "#Let's parse the text on line breaks\n",
    "for line in t.split(\"\\n\"):\n",
    "    print(line)"
   ]
  },
  {
   "cell_type": "code",
   "execution_count": null,
   "metadata": {
    "slideshow": {
     "slide_type": "slide"
    }
   },
   "outputs": [],
   "source": [
    "#Let's examine the 17th column\n",
    "for line in t.split(\"\\n\"):\n",
    "    print(line[16])"
   ]
  },
  {
   "cell_type": "code",
   "execution_count": null,
   "metadata": {
    "slideshow": {
     "slide_type": "slide"
    }
   },
   "outputs": [],
   "source": [
    "#Let's only show those that have a 17th column\n",
    "for line in t.split(\"\\n\"):\n",
    "    if line[16] != ' ':\n",
    "        print(line[16])"
   ]
  },
  {
   "cell_type": "markdown",
   "metadata": {
    "slideshow": {
     "slide_type": "slide"
    }
   },
   "source": [
    "Note the term `line` in the code isn't magical. We could have used any variable in place of `line` because it is just iterating over the items in the list made by the `split()` applied to the variable `t` which contains the text listed above. \n",
    "\n",
    "Let's use `x` instead to show we see the same thing:"
   ]
  },
  {
   "cell_type": "code",
   "execution_count": null,
   "metadata": {
    "slideshow": {
     "slide_type": "slide"
    }
   },
   "outputs": [],
   "source": [
    "#Let's only show those that have a 17th column\n",
    "for x in t.split(\"\\n\"):\n",
    "    if x[16] != ' ':\n",
    "        print(x[16])"
   ]
  },
  {
   "cell_type": "markdown",
   "metadata": {
    "slideshow": {
     "slide_type": "slide"
    }
   },
   "source": [
    "## Zero Indexing of Python and Slicing\n",
    "\n",
    "Python is simply assigning the `x` to each individual element in the list made by `t.split(\"\\n\")`.  \n",
    "By itself that isn't that shocking but that pattern of Python automatically taking the individual elements from an iterable object is useful. We'll see it soon where we read a file item and the lines are actually specified without us needing to split on the end of line representation `\\n` in that case.\n",
    "\n",
    "But why are we using the number `16` when we talked about the 17th column?"
   ]
  },
  {
   "cell_type": "markdown",
   "metadata": {
    "slideshow": {
     "slide_type": "slide"
    }
   },
   "source": [
    "Lets explore indexing in Python.\n",
    "\n",
    "Let's look at what numbers in prints if we iterate on a `range` of integers. Note that `range` is green because it is a special Python object whereas `x` and `line` we used above weren't green."
   ]
  },
  {
   "cell_type": "code",
   "execution_count": null,
   "metadata": {
    "slideshow": {
     "slide_type": "slide"
    }
   },
   "outputs": [],
   "source": [
    "for x in range(5):\n",
    "    print (x)"
   ]
  },
  {
   "cell_type": "markdown",
   "metadata": {
    "slideshow": {
     "slide_type": "slide"
    }
   },
   "source": [
    "Okay. We get five numbers. However, the first one is zero and not `1` as we saw at [PDB ATOMIC COORDINATE FILE FORMAT](https://zhanglab.ccmb.med.umich.edu/BindProfX/pdb_atom_format.html).\n",
    "\n",
    "This is because Python is zero indexed. Not the normal way but if you recall sometimes you'll see in grade school number lines beginning with zero. Mathematics branches and computer science often use zero as the index of the first item in a list. This is what Python uses. (The statistics language R using 1 indexing.) \n",
    "\n",
    "We'll see zero indexing has some advantages as we go along. It may take until session #5 to really see the benefits.\n",
    "\n",
    "Let's see if `line[16]` corresponing to the 17th column makes more sense now.\n",
    "\n",
    "One way to look at it:"
   ]
  },
  {
   "cell_type": "code",
   "execution_count": null,
   "metadata": {},
   "outputs": [],
   "source": [
    "#Let's only show those that have a 17th column\n",
    "for line in t.split(\"\\n\"):\n",
    "    if line[17-1] != ' ':\n",
    "        print(line[17-1]) # because to account for zero index, we want one less than number 17\n",
    "        print(line[0:17])"
   ]
  },
  {
   "cell_type": "markdown",
   "metadata": {},
   "source": [
    "` print(line[0:17])` is slicing the line and not prining a single character at a specified index.\n",
    "\n",
    "Note the syntax is a little different than you might expect, it is saying start with zero index (number on the right) and go up to **BUT NOT INCLUDE** the character at the index on the right. We'll cover slicing some more in Session #5 as it can be a little odd at first and since there are shortcuts you can use. However, you should see it easily allows you to access items spanning particular numbered columns as we saw [the PDB specification](https://zhanglab.ccmb.med.umich.edu/BindProfX/pdb_atom_format.html)."
   ]
  },
  {
   "cell_type": "markdown",
   "metadata": {
    "slideshow": {
     "slide_type": "slide"
    }
   },
   "source": [
    "## File reading and multi-conditionals\n",
    "\n",
    "That was slightly tedious getting the PDB file and pasting it in above to make the text string `t`. Normally you'd read stright from the file.\n",
    "\n",
    "First let's use the shell command line utility `curl` to get (You may be more familiar with `wget` which acts similarly?)\n",
    "\n",
    "Note we put an `!` (exclamation point at the beginning of the curl command to specify that is special and instead of running as Python (which is the kernel this notebook is based on, see upper left just above the notabook), we want to run it as a command bash shell command. (Another way to think about it: If you were in a terminal, you'd leave off the exclamation point.)\n",
    "\n",
    "Feel free to change it to your favorite PDB file id accession at the end. In other words replace the `1avw` with whatver you'd like."
   ]
  },
  {
   "cell_type": "code",
   "execution_count": null,
   "metadata": {
    "slideshow": {
     "slide_type": "slide"
    }
   },
   "outputs": [],
   "source": [
    "!curl -OL https://files.rcsb.org/download/1p3v.pdb"
   ]
  },
  {
   "cell_type": "markdown",
   "metadata": {
    "slideshow": {
     "slide_type": "slide"
    }
   },
   "source": [
    "Running that gets another PDB file.\n",
    "\n",
    "Let's parse that straight from the file."
   ]
  },
  {
   "cell_type": "code",
   "execution_count": null,
   "metadata": {
    "slideshow": {
     "slide_type": "slide"
    }
   },
   "outputs": [],
   "source": [
    "# read in the PDB file\n",
    "with open(\"1p3v.pdb\", 'r') as input:\n",
    "    lines_read = 0 # prepare to give feeback later or allow skipping to certain start\n",
    "    for line in input:\n",
    "        lines_read = lines_read + 1\n",
    "    print (lines_read)"
   ]
  },
  {
   "cell_type": "markdown",
   "metadata": {
    "slideshow": {
     "slide_type": "-"
    }
   },
   "source": [
    "Note to get that to work we didn't have to split the string on the new line character `/n` this time. Python knows to split a file object on the line. Or even more general the iterable assigned to a file object is a line.\n",
    "\n",
    "If we interated on the line now, we'd get characters. This unit drill down nature of Python is one of the things that make it so useful. The other is that it looks much like if you wrote out what you want to do. In other words it is a higher level language closer to English than some other programming languages."
   ]
  },
  {
   "cell_type": "markdown",
   "metadata": {
    "slideshow": {
     "slide_type": "-"
    }
   },
   "source": [
    "If you click to open your PDB file and scroll down, that number reported above should match although it may be off by one as the last line showing a line number in the editor view isn't counted as a line by Python as it contains nothing.\n",
    "\n",
    "We can confirm that by printing the last known value of `line` and see it corresponds to the content on last line where there is nothing. (Line 2119 if you are using 1p3v.)"
   ]
  },
  {
   "cell_type": "code",
   "execution_count": null,
   "metadata": {
    "slideshow": {
     "slide_type": "slide"
    }
   },
   "outputs": [],
   "source": [
    "print(line)"
   ]
  },
  {
   "cell_type": "markdown",
   "metadata": {
    "slideshow": {
     "slide_type": "-"
    }
   },
   "source": [
    "Let's use that to do something more useful that will let us explore the PDB file more.\n",
    "\n",
    "We'll remove the counting and trying looking at how many cysteines this protein (or structure if yours has more chains) has."
   ]
  },
  {
   "cell_type": "code",
   "execution_count": null,
   "metadata": {
    "slideshow": {
     "slide_type": "slide"
    }
   },
   "outputs": [],
   "source": [
    "with open(\"1p3v.pdb\", 'r') as input:\n",
    "    for line in input:\n",
    "        if 'CYS' in line:\n",
    "            print(line)"
   ]
  },
  {
   "cell_type": "markdown",
   "metadata": {
    "slideshow": {
     "slide_type": "-"
    }
   },
   "source": [
    "Well we got our answer. But it could be cleaner. The first two lines come from the section of the PDB file called the header. It would be worse if we had a lot of cysteines. Those first two lines all the parts above the ATOM coordinates.\n",
    "\n",
    "Let's see how much worse it could get by trying with `HIS`."
   ]
  },
  {
   "cell_type": "code",
   "execution_count": null,
   "metadata": {
    "slideshow": {
     "slide_type": "slide"
    }
   },
   "outputs": [],
   "source": [
    "# read in the PDB file\n",
    "with open(\"1p3v.pdb\", 'r') as input:\n",
    "    for line in input:\n",
    "        if 'HIS' in line:\n",
    "            print(line)"
   ]
  },
  {
   "cell_type": "markdown",
   "metadata": {
    "slideshow": {
     "slide_type": "-"
    }
   },
   "source": [
    "Now we are getting lines with `THIS` in the header, too. \n",
    "\n",
    "Let's skip past the header.\n",
    "\n",
    "We didn't talk about it above but we can use another conditional like the `if something` we used above a few times."
   ]
  },
  {
   "cell_type": "code",
   "execution_count": null,
   "metadata": {
    "slideshow": {
     "slide_type": "slide"
    }
   },
   "outputs": [],
   "source": [
    "with open(\"1p3v.pdb\", 'r') as input:\n",
    "    for line in input:\n",
    "        if line.startswith(\"ATOM\"):\n",
    "            if 'CYS' in line:\n",
    "                print(line)"
   ]
  },
  {
   "cell_type": "markdown",
   "metadata": {
    "slideshow": {
     "slide_type": "-"
    }
   },
   "source": [
    "That is cleaner. And it will work better with `HIS` now."
   ]
  },
  {
   "cell_type": "code",
   "execution_count": null,
   "metadata": {
    "slideshow": {
     "slide_type": "slide"
    }
   },
   "outputs": [],
   "source": [
    "with open(\"1p3v.pdb\", 'r') as input:\n",
    "    for line in input:\n",
    "        if line.startswith(\"ATOM\"):\n",
    "            if 'HIS' in line:\n",
    "                print(line)"
   ]
  },
  {
   "cell_type": "markdown",
   "metadata": {
    "slideshow": {
     "slide_type": "slide"
    }
   },
   "source": [
    "But hard to read how many since several of them. Let's focus on the alpha-carbons in the PDB file."
   ]
  },
  {
   "cell_type": "code",
   "execution_count": null,
   "metadata": {
    "slideshow": {
     "slide_type": "slide"
    }
   },
   "outputs": [],
   "source": [
    "with open(\"1p3v.pdb\", 'r') as input:\n",
    "    for line in input:\n",
    "        if line.startswith(\"ATOM\") and \"CA\" in line:\n",
    "            if 'HIS' in line:\n",
    "                print(line)"
   ]
  },
  {
   "cell_type": "markdown",
   "metadata": {
    "slideshow": {
     "slide_type": "slide"
    }
   },
   "source": [
    "So there are nine histidines if you are using 1p3v example.\n",
    "\n",
    "So this was using Python interactively in Jupyter. And you could save this notebook to easily save your result of the code above looking at the alpha-carbons of the histides for a report or something later. A lot of people prefer this way to work now. We'll explore more of the advatanges in Session #5.\n",
    "\n",
    "\n",
    "----\n",
    "\n",
    "## Running a script\n",
    "\n",
    "But you may have heard reference to running a Python script or running a script. Let's finish by running a script version of our histidine alpha-carbon listing code.\n",
    "\n",
    "To do that, copy the code in the cell above to your clipboard. It will be similar to the cod below but may be slightly different if you are using a differnet PDB file:\n",
    "\n",
    "```python\n",
    "with open(\"1p3v.pdb\", 'r') as input:\n",
    "    # prepare to give feeback later or allow skipping to certain start\n",
    "    for line in input:\n",
    "        if line.startswith(\"ATOM\") and \"CA\" in line:\n",
    "            if 'HIS' in line:\n",
    "                print(line)\n",
    "```\n",
    "\n",
    "Next select `File` > `New` > `Text File` from the main menu at the top above the panels.\n",
    "\n",
    "Paste the code into the text file and then right-click choose `Rename File` and name the file `script.py`\n",
    "\n",
    "**It is important you remove `.txt`.** The highlighting should indicate code now if you did it correctly.\n",
    "\n",
    "Choose `File` > `Save Python File.`\n",
    "\n",
    "\n",
    "Next, select `File` > `New` > `Terminal` from the main menu at the top above the panels.\n",
    "\n",
    "A terminal will open. There type the following to run your script:\n",
    "\n",
    "```shell\n",
    "python script.py\n",
    "```\n",
    "\n",
    "You'll see the same result you saw in the notebook. However, it isn't as useful as saving the notebook automatically. You'd have to add extra handling to save those results to a file. It is easy but you can already see one advantage to using a Jupyter notebook from that. Of course, you could copy and paste the result out of terminal but doing that more than a few times is tedious and not good practice to working reproducibly. The most direct way is to add a shell redirect. The ouput to standard out in the terminal will be sent to a file named `results.txt` with the following addition of `> results.txt` at the end of the call to the script. Like so:\n",
    "\n",
    "```shell\n",
    "python script.py > results.txt\n",
    "```\n",
    "\n",
    "You won't see any ouput but a file named `results.txt` will be made with the output as the contents.\n",
    "\n",
    "-----"
   ]
  },
  {
   "cell_type": "markdown",
   "metadata": {
    "slideshow": {
     "slide_type": "slide"
    }
   },
   "source": [
    "--------\n",
    "\n",
    "\n",
    "## 'Continued' pt 2 is in another notebook\n",
    "\n",
    "Click [here](basics_pt2.ipynb) to continue on beyond what we covered last time."
   ]
  }
 ],
 "metadata": {
  "celltoolbar": "Slideshow",
  "kernelspec": {
   "display_name": "Python 3",
   "language": "python",
   "name": "python3"
  },
  "language_info": {
   "codemirror_mode": {
    "name": "ipython",
    "version": 3
   },
   "file_extension": ".py",
   "mimetype": "text/x-python",
   "name": "python",
   "nbconvert_exporter": "python",
   "pygments_lexer": "ipython3",
   "version": "3.7.6"
  },
  "rise": {
   "autolaunch": true,
   "enable_chalkboard": true,
   "scroll": true,
   "theme": "white",
   "transition": "zoom"
  }
 },
 "nbformat": 4,
 "nbformat_minor": 4
}
